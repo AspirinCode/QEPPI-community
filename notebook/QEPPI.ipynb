{
  "nbformat": 4,
  "nbformat_minor": 0,
  "metadata": {
    "colab": {
      "name": "QEPPI.ipynb",
      "provenance": [],
      "collapsed_sections": []
    },
    "kernelspec": {
      "name": "python3",
      "display_name": "Python 3"
    },
    "language_info": {
      "name": "python"
    }
  },
  "cells": [
    {
      "cell_type": "code",
      "metadata": {
        "id": "XirDETzAV0s4"
      },
      "source": [
        "!pip install rdkit-pypi\n",
        "from rdkit import rdBase\n",
        "from rdkit import Chem\n",
        "from rdkit.Chem import Draw\n",
        "print(rdBase.rdkitVersion)"
      ],
      "execution_count": null,
      "outputs": []
    },
    {
      "cell_type": "code",
      "metadata": {
        "id": "W9iCv8X5GxSd"
      },
      "source": [
        "!git clone https://github.com/ohuelab/QEPPI.git"
      ],
      "execution_count": null,
      "outputs": []
    },
    {
      "cell_type": "code",
      "metadata": {
        "id": "Bo609XfrOINp"
      },
      "source": [
        "#Move the working directory to path\n",
        "import os\n",
        "path = \"/content/QEPPI\"\n",
        "os.chdir(path)"
      ],
      "execution_count": null,
      "outputs": []
    },
    {
      "cell_type": "markdown",
      "metadata": {
        "id": "510NKIkmlFPn"
      },
      "source": [
        "# Calculation QEPPI for Your \"SMILES\"\n"
      ]
    },
    {
      "cell_type": "code",
      "metadata": {
        "id": "RLZj8WajlikM"
      },
      "source": [
        "#@markdown ##### Example SMILES: **Idasanutlin** is a potent and selective p53-MDM2 inhibitor\n",
        "#@markdown ##### Replace with the \"SMILES\" you are interested in.\n",
        "SMILES = \"COC1=CC(=CC=C1NC(=O)[C@@H]1N[C@@H](CC(C)(C)C)[C@@](C#N)([C@H]1C1=CC=CC(Cl)=C1F)C1=CC=C(Cl)C=C1F)C(O)=O\" #@param {type:\"string\"}\n",
        "if len(SMILES) == 0:\n",
        "    print(\"Please enter SMILES.\")\n",
        "else:\n",
        "    !python calc_QEPPI.py --smiles '$SMILES'\n",
        "mol = Chem.MolFromSmiles(SMILES)\n",
        "img = Draw.MolToImage(mol)\n",
        "img"
      ],
      "execution_count": null,
      "outputs": []
    },
    {
      "cell_type": "markdown",
      "metadata": {
        "id": "MNIh6cFLH_0B"
      },
      "source": [
        "# Calculation QEPPI for Your \"SDF file\"\n",
        "If you upload the SDF, the result of calculating QEPPI will be returned as CSV with SMILES."
      ]
    },
    {
      "cell_type": "code",
      "metadata": {
        "id": "k5zXO7IRToX_"
      },
      "source": [
        "from google.colab import files\n",
        "\n",
        "print(\"Please your SDF file upload\")\n",
        "uploaded = files.upload()\n",
        "file_name = list(uploaded.keys())[0]\n",
        "!python calc_QEPPI.py --sdf $file_name\n",
        "!rm -rf $file_name\n",
        "files.download(\"result.csv\")"
      ],
      "execution_count": null,
      "outputs": []
    }
  ]
}